{
 "cells": [
  {
   "cell_type": "code",
   "execution_count": null,
   "id": "f2679c26-7c14-4a77-8fd4-d765048b7413",
   "metadata": {},
   "outputs": [],
   "source": [
    "# Import libraries\n",
    "import pandas as pd\n",
    "\n",
    "\n",
    "# Load File\n",
    "df = pd.read_csv('./df_pre_process_II.csv')\n",
    "\n",
    "\n",
    "# Tagging posts based on the occurrence of keywords\n",
    "from gensim import corpora, models\n",
    "\n",
    "\n",
    "docs = df['full_text']\n",
    "docs = docs.apply(lambda x: x.split())\n",
    "\n",
    "########\n",
    "\n",
    "# Define a list of keywords for cyber threats\n",
    "\n",
    "threat_keywords = ['cpf', 'cpfs', 'cve', 'password', 'passwords', 'senha', 'senhas', 'hack',\n",
    "                   'hacker', 'hackers', 'hacking', 'virus', 'malware', 'spyware', 'phishing',\n",
    "                   'fishing', 'spam', 'trojan', 'criptografia', 'rootkit', 'backdoor', 'worm',\n",
    "                   'botnet', 'vazamento', 'vazamentos', 'dados', 'spoofing', 'wordlist', 'ransomware',\n",
    "                   'injection', 'sqlinjection', 'ddos', 'exploit', 'keylogger', 'vulnerabilidade',\n",
    "                   'vulnerabilidades', 'hash', 'hashes']\n",
    "\n",
    "\n",
    "\n",
    "# Prepare corpus\n",
    "dictionary = corpora.Dictionary(docs)\n",
    "corpus = [dictionary.doc2bow(doc) for doc in docs]\n",
    "\n",
    "# Train LDA model\n",
    "lda_model = models.ldamodel.LdaModel(corpus=corpus, id2word=dictionary, num_topics=10, random_state=100,\n",
    "                                     update_every=1, chunksize=100, passes=10, alpha='auto', per_word_topics=True)\n",
    "\n",
    "# Label documents based on keywords for cyber threats\n",
    "\n",
    "labels = []\n",
    "for i, doc in enumerate(docs):\n",
    "    doc_bow = dictionary.doc2bow(doc)\n",
    "    doc_topics, word_topics, phi_values = lda_model.get_document_topics(doc_bow, per_word_topics=True)\n",
    "    threat_count = 0\n",
    "    for word, topic in word_topics:\n",
    "        if dictionary[word] in threat_keywords:\n",
    "            threat_count += 1\n",
    "    if threat_count > 0:\n",
    "        labels.append('Sim')\n",
    "    else:\n",
    "        labels.append('Não')    \n",
    "\n",
    "# Add Threat column to the original dataset\n",
    "df['KEYWORD'] = labels\n",
    "\n",
    "# Save labeled dataset\n",
    "df.to_csv('df_ioc_explorer_and_keywords.csv', index=False)\n",
    "df.to_excel('df_ioc_explorer_and_keywords.xlsx', index=False)"
   ]
  },
  {
   "cell_type": "code",
   "execution_count": null,
   "id": "e798e52f-a627-465b-b659-cf7f6e47c527",
   "metadata": {},
   "outputs": [],
   "source": []
  }
 ],
 "metadata": {
  "kernelspec": {
   "display_name": "Python 3 (ipykernel)",
   "language": "python",
   "name": "python3"
  },
  "language_info": {
   "codemirror_mode": {
    "name": "ipython",
    "version": 3
   },
   "file_extension": ".py",
   "mimetype": "text/x-python",
   "name": "python",
   "nbconvert_exporter": "python",
   "pygments_lexer": "ipython3",
   "version": "3.8.10"
  }
 },
 "nbformat": 4,
 "nbformat_minor": 5
}
