{
 "cells": [
  {
   "cell_type": "code",
   "execution_count": null,
   "id": "f81632da-8fc8-49aa-81d3-dd8af13aea00",
   "metadata": {},
   "outputs": [],
   "source": [
    "# Import libraries\n",
    "import pandas as pd\n",
    "import pickle"
   ]
  },
  {
   "cell_type": "code",
   "execution_count": null,
   "id": "91f8ee1a-a472-41ea-82f3-c768b0dece2a",
   "metadata": {},
   "outputs": [],
   "source": [
    "# Load the best-trained model\n",
    "with open('modelo_lgb_tfidf_unigram_ptbr.pkl', 'rb') as file:\n",
    "    modelo_lgb_tfidf_unigram_ptbr = pickle.load(file)"
   ]
  },
  {
   "cell_type": "code",
   "execution_count": null,
   "id": "4867af95-906c-4aee-b1e2-e1a182069d61",
   "metadata": {},
   "outputs": [],
   "source": [
    "# To load the TF-IDF vectorizer from the file using pickle\n",
    "with open('tfidf_vec_unigram_ptbr.pkl', 'rb') as file:\n",
    "    tfidf_vec_unigram_ptbr = pickle.load(file)"
   ]
  },
  {
   "cell_type": "code",
   "execution_count": null,
   "id": "fbc95ef1-5791-43e5-bcd7-d0cc007c37ac",
   "metadata": {},
   "outputs": [],
   "source": [
    "tfidf_vec_unigram_ptbr"
   ]
  },
  {
   "cell_type": "code",
   "execution_count": null,
   "id": "abf0f8c5-954e-4e26-8e59-ce66382ab8f1",
   "metadata": {},
   "outputs": [],
   "source": [
    "# Load File\n",
    "df_n = pd.read_csv('./dataset_III_pre_process_II.csv')"
   ]
  },
  {
   "cell_type": "code",
   "execution_count": null,
   "id": "b5e49b95-3227-41bf-9ae1-d76cea832661",
   "metadata": {},
   "outputs": [],
   "source": [
    "df_n"
   ]
  },
  {
   "cell_type": "code",
   "execution_count": null,
   "id": "a55edd55-4efd-4896-bedf-66cca1f70321",
   "metadata": {},
   "outputs": [],
   "source": [
    "####\n",
    "# Column full_text (X_text_n)\n",
    "\n",
    "X_text_n = df_n['full_text']"
   ]
  },
  {
   "cell_type": "code",
   "execution_count": null,
   "id": "84e07a40-8732-4a10-8520-8a1615cd1dbf",
   "metadata": {},
   "outputs": [],
   "source": [
    "# Use the TF-IDF vectorizer to transform the new texts into TF-IDF vectors - Unigram\n",
    "X_tfidf_unigram_n = tfidf_vec_unigram_ptbr.transform(X_text_n)"
   ]
  },
  {
   "cell_type": "code",
   "execution_count": null,
   "id": "671ced8d-202d-428e-bbb1-ba577a798745",
   "metadata": {},
   "outputs": [],
   "source": [
    "X_tfidf_unigram_n.shape"
   ]
  },
  {
   "cell_type": "code",
   "execution_count": null,
   "id": "cb80c2dc-e203-47f8-9911-7ffcb0f542a6",
   "metadata": {},
   "outputs": [],
   "source": [
    "# Use the LightGBM model to make predictions on the new posts\n",
    "prev = modelo_lgb_tfidf_unigram_ptbr.predict(X_tfidf_unigram_n)"
   ]
  },
  {
   "cell_type": "code",
   "execution_count": null,
   "id": "71fa4d95-3de4-418e-9675-efb37bec63a7",
   "metadata": {},
   "outputs": [],
   "source": [
    "# Create a new DataFrame to store the predictions\n",
    "df_previsoes = pd.DataFrame({'full_text_X_tfidf_unigram_n': X_tfidf_unigram_n, 'previsoes': prev})"
   ]
  },
  {
   "cell_type": "code",
   "execution_count": null,
   "id": "bcf774f1-a4af-4f89-b93b-ddf2fdc463b4",
   "metadata": {},
   "outputs": [],
   "source": [
    "df_previsoes"
   ]
  },
  {
   "cell_type": "code",
   "execution_count": null,
   "id": "c8876c80-6f7a-4cf3-93e9-afacd81e8fd2",
   "metadata": {},
   "outputs": [],
   "source": [
    "# Create a new column 'predictions' in the DataFrame 'df_n' with the probabilities\n",
    "df_n['probabilidade'] = prev"
   ]
  },
  {
   "cell_type": "code",
   "execution_count": null,
   "id": "8d0db256-fcba-4ada-8a97-4290a58d5ee2",
   "metadata": {},
   "outputs": [],
   "source": [
    "df_n"
   ]
  },
  {
   "cell_type": "code",
   "execution_count": null,
   "id": "7141342f-a964-4326-b081-f8bc1d9be2b3",
   "metadata": {},
   "outputs": [],
   "source": [
    "# Probability ranges\n",
    "\n",
    "# Defining the probability ranges\n",
    "faixas = [0, 0.3, 0.7, 1.0]\n",
    "nomes_faixas = ['Baixa', 'Média', 'Alta']\n",
    "\n",
    "# Adding a new column to the DataFrame that contains the probability categories\n",
    "df_n['Relevância'] = pd.cut(df_n['probabilidade'], bins=faixas, labels=nomes_faixas, right=False)"
   ]
  },
  {
   "cell_type": "code",
   "execution_count": null,
   "id": "0e8b704d-bd3e-4d1e-be0a-4a15919a84d2",
   "metadata": {},
   "outputs": [],
   "source": [
    "df_n"
   ]
  },
  {
   "cell_type": "code",
   "execution_count": null,
   "id": "8e6c3168-aa11-432d-a369-d4b55e3dd356",
   "metadata": {},
   "outputs": [],
   "source": [
    "# Threshold for binary classification\n",
    "limiar = 0.5\n",
    "\n",
    "# Convert the probabilities into binary predictions\n",
    "previsoes_binarias = [1 if prob >= limiar else 0 for prob in prev]\n",
    "\n",
    "# Create a new column 'predictions' in the DataFrame 'df_n' with the binary predictions\n",
    "df_n['previsao_binaria'] = previsoes_binarias"
   ]
  },
  {
   "cell_type": "code",
   "execution_count": null,
   "id": "8f5f9074-cb44-4749-b922-30b86a51b3cf",
   "metadata": {},
   "outputs": [],
   "source": [
    "df_n"
   ]
  },
  {
   "cell_type": "code",
   "execution_count": null,
   "id": "21eea620-aaf2-49a8-99e3-252d9aba26c9",
   "metadata": {},
   "outputs": [],
   "source": [
    "# Save the new posts with the predictions\n",
    "df_n.to_csv('dataset_III_prob_relevancia_prev_bin.csv', index=False)\n",
    "df_n.to_excel('dataset_III_prob_relevancia_prev_bin.xlsx', index=False)"
   ]
  },
  {
   "cell_type": "code",
   "execution_count": null,
   "id": "e44bb3f5-85e9-4ba2-8b45-456c586336a5",
   "metadata": {},
   "outputs": [],
   "source": [
    "# GRAPH\n",
    "import matplotlib.pyplot as plt\n",
    "\n",
    "# Count of categories in the 'Relevance' column\n",
    "contagem_relevancia = df_n['Relevância'].value_counts()\n",
    "\n",
    "# Create the bar chart\n",
    "plt.bar(contagem_relevancia.index, contagem_relevancia.values)\n",
    "\n",
    "# Add title and labels to the axes\n",
    "plt.title('Contagem de Relevância')\n",
    "plt.xlabel('Relevância')\n",
    "plt.ylabel('Contagem')\n",
    "\n",
    "# Display the chart\n",
    "plt.show()"
   ]
  },
  {
   "cell_type": "code",
   "execution_count": null,
   "id": "e5bbaf8f-99c8-4dc5-b4d0-0e4fc45060f8",
   "metadata": {},
   "outputs": [],
   "source": [
    "# PIE CHART WITH PERCENTAGES\n",
    "\n",
    "\n",
    "# Calculate the percentages of categories in the 'Relevance' column\n",
    "percentuais_relevancia = df_n['Relevância'].value_counts(normalize=True) * 100\n",
    "\n",
    "# Calculate the overall total\n",
    "total_geral = len(df_n)\n",
    "\n",
    "# Define the colors for each category\n",
    "cores = ['green', 'yellow', 'red']\n",
    "\n",
    "# Create the pie chart\n",
    "plt.figure(figsize=(6, 6))  # Define o tamanho da figura\n",
    "plt.pie(percentuais_relevancia, labels=percentuais_relevancia.index, autopct='%.1f%%', startangle=140, colors=cores)\n",
    "\n",
    "\n",
    "# Add title\n",
    "#plt.title('Percentuais de Relevância dos', total_geral, 'Posts Classificados')\n",
    "plt.title('Percentuais de Relevância dos ' + str(total_geral) + ' Novos Posts Classificados')\n",
    "\n",
    "\n",
    "# Create a custom legend\n",
    "legendas = ['Baixa', 'Média', 'Alta']\n",
    "plt.legend(legendas, title=\"Relevância\", loc=\"best\")\n",
    "\n",
    "# Display the chart\n",
    "plt.show()"
   ]
  },
  {
   "cell_type": "code",
   "execution_count": null,
   "id": "0f8a0344-993d-418b-be16-34a03130914e",
   "metadata": {},
   "outputs": [],
   "source": [
    "# Print the quantity of each range\n",
    "contagem_faixas = df_n['Relevância'].value_counts()\n",
    "print(contagem_faixas)"
   ]
  },
  {
   "cell_type": "code",
   "execution_count": null,
   "id": "1d1776af-5a66-4354-abf4-dc562befa3a7",
   "metadata": {},
   "outputs": [],
   "source": []
  }
 ],
 "metadata": {
  "kernelspec": {
   "display_name": "Python 3 (ipykernel)",
   "language": "python",
   "name": "python3"
  },
  "language_info": {
   "codemirror_mode": {
    "name": "ipython",
    "version": 3
   },
   "file_extension": ".py",
   "mimetype": "text/x-python",
   "name": "python",
   "nbconvert_exporter": "python",
   "pygments_lexer": "ipython3",
   "version": "3.8.10"
  }
 },
 "nbformat": 4,
 "nbformat_minor": 5
}
