{
 "cells": [
  {
   "cell_type": "code",
   "execution_count": null,
   "id": "cd60b384-7677-4859-8f91-0e5c9aef0314",
   "metadata": {},
   "outputs": [],
   "source": [
    "# Import libraries\n",
    "import pandas as pd\n",
    "import re\n",
    "import nltk\n",
    "from bs4 import BeautifulSoup\n",
    "from nltk.corpus import stopwords\n",
    "from unidecode import unidecode"
   ]
  },
  {
   "cell_type": "code",
   "execution_count": null,
   "id": "da3ac511-4fd5-4a88-bc3c-2844819dbf3f",
   "metadata": {},
   "outputs": [],
   "source": [
    "# Load file\n",
    "df = pd.read_csv('./df_pre_process_I.csv')"
   ]
  },
  {
   "cell_type": "code",
   "execution_count": null,
   "id": "2ca90dda-6918-440a-b538-907cb8e2a314",
   "metadata": {},
   "outputs": [],
   "source": [
    "df['title'] = df['title'].astype(str)\n",
    "df['content'] = df['content'].astype(str)\n",
    "df['answers'] = df['answers'].astype(str)\n",
    "\n",
    "full_text_col = 'full_text'\n",
    "required_columns = [\"title\", \"content\", \"answers\", full_text_col]\n",
    "df[full_text_col] = df[\"title\"] + \" \" + df[\"content\"] + df[\"answers\"]\n",
    "\n",
    "###############\n",
    "\n",
    "nltk.download('stopwords')\n",
    "\n",
    "stop_words = set(stopwords.words('portuguese'))\n",
    "stop_words.update([\"pra\",\"etc\", \"none\", \"vai\", \"ter\", \"nan\", \"user\", \"author\", \"title\", \"none\",\n",
    "                    \"name\", \"score\", \"content\", \"down\", \"votes\", \"created\", \"comments\", \"comment\",\n",
    "                    \"answercontent\", \"vote\", \"type\", \"points\", \"aqui\", \"pode\", \"sobre\", \"fazer\",\n",
    "                    \"alguem\", \"tudo\", \"regular\", \"coisa\", \"bem\", \"vou\", \"sei\", \"boca\", \"algum\",\n",
    "                    \"alguns\", \"alguma\", \"algo\", \"nada\", \"bom\", \"entao\", \"acho\", \"quer\", \"the\",\n",
    "                    \"and\", \"you\", \"cara\", \"coisas\", \"sim\", \"ainda\", \"ver\", \"usar\", \"assim\",\n",
    "                    \"index\"])\n",
    "\n",
    "# Replace characters with accents with their unaccented equivalents\n",
    "stop_words_without_accents = set()\n",
    "for word in stop_words:\n",
    "    stop_words_without_accents.add(unidecode(word))\n",
    "stop_words = stop_words_without_accents\n",
    "\n",
    "def preprocess_text(text):    \n",
    "    # Replace characters with accents with their unaccented equivalents\n",
    "    text = unidecode(text)\n",
    "    # Convert the text to lowercase\n",
    "    text = text.lower()\n",
    "    # Replace \\\\n with a white space\n",
    "    text = re.sub(r'\\s*\\\\n\\s*', ' ', text)\n",
    "    # Remove HTML tags\n",
    "    text = BeautifulSoup(text, 'html.parser').get_text()\n",
    "    # Remove .onion links\n",
    "    text = re.sub(r'\\S*\\.onion\\S*', ' ', text)\n",
    "    # Remove URLs\n",
    "    text = re.sub(r'http\\S+', ' ', text)\n",
    "    # Remove the titles that appear in answers\n",
    "    text = re.sub(r\"'title': [^,]*,\", ' ', text)\n",
    "    # Remove the usernames that appear in answers\n",
    "    text = re.sub(r\"'name': [^,]*,\", ' ', text)\n",
    "    # Remove the types that appear in answers \n",
    "    text = re.sub(r\"'type': [^,]*,\", ' ', text)\n",
    "    # Remove the authors that appear in answers \n",
    "    text = re.sub(r\"'author': [^,]*,\", ' ', text)\n",
    "    # Remove sequences of kkkk\n",
    "    text = re.sub(r'k{2,}\\S*', ' ', text)\n",
    "    \n",
    "    # Remove terms with more than 4 consecutive consonants\n",
    "    consonants_5m = \"([bcdfghjklmnpqrstvwxyz]{5,})\"\n",
    "    text = re.sub(consonants_5m, \" \", text)\n",
    "    # Remove terms with more than 5 consecutive vowels\n",
    "    vowels_6m = \"([aeiou]{6,})\"\n",
    "    text = re.sub(vowels_6m, \" \", text)\n",
    "    \n",
    "    # Replace non-letter characters with white spaces\n",
    "    text = re.sub('[^A-Za-z]+', ' ', text)\n",
    "    # Remove extra white spaces and replace sequences of white spaces with a single white space\n",
    "    text = re.sub('\\s+', ' ', text.strip())\n",
    "    # Remove stop words\n",
    "    words = text.split()\n",
    "    words = [word for word in words if word not in stop_words]\n",
    "    words = [word for word in words if len(word) > 2]\n",
    "    text = ' '.join(words)\n",
    "    return text\n"
   ]
  },
  {
   "cell_type": "code",
   "execution_count": null,
   "id": "b981162b-a32c-41d0-a832-99abbde2eab3",
   "metadata": {},
   "outputs": [],
   "source": [
    "# Apply the preprocessing function to df[full_text_col]\n",
    "df[full_text_col] = df[full_text_col].apply(preprocess_text)"
   ]
  },
  {
   "cell_type": "code",
   "execution_count": null,
   "id": "3ed65a41-6b0b-43ea-8aec-fc4fd1549574",
   "metadata": {},
   "outputs": [],
   "source": [
    "df[full_text_col][2]"
   ]
  },
  {
   "cell_type": "code",
   "execution_count": null,
   "id": "8182e3dd-820e-465a-8ec9-8797600ca097",
   "metadata": {},
   "outputs": [],
   "source": [
    "# Excluding rows where 'full_text' is null\n",
    "df = df.dropna(subset=['full_text'])\n",
    "\n",
    "# Reset the index\n",
    "df = df.reset_index(drop=True)"
   ]
  },
  {
   "cell_type": "code",
   "execution_count": null,
   "id": "66d3f56e-940c-4f9c-8dce-ffe79128b181",
   "metadata": {},
   "outputs": [],
   "source": [
    "# Save CSV file\n",
    "df.to_csv('df_pre_process_II.csv', index=False)\n",
    "\n",
    "# Save XLSX file\n",
    "df.to_excel('df_pre_process_II.xlsx', index=False)"
   ]
  },
  {
   "cell_type": "code",
   "execution_count": null,
   "id": "f2679c26-7c14-4a77-8fd4-d765048b7413",
   "metadata": {},
   "outputs": [],
   "source": []
  }
 ],
 "metadata": {
  "kernelspec": {
   "display_name": "Python 3 (ipykernel)",
   "language": "python",
   "name": "python3"
  },
  "language_info": {
   "codemirror_mode": {
    "name": "ipython",
    "version": 3
   },
   "file_extension": ".py",
   "mimetype": "text/x-python",
   "name": "python",
   "nbconvert_exporter": "python",
   "pygments_lexer": "ipython3",
   "version": "3.8.10"
  }
 },
 "nbformat": 4,
 "nbformat_minor": 5
}
